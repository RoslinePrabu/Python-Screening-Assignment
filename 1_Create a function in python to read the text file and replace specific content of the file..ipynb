{
 "cells": [
  {
   "cell_type": "markdown",
   "id": "8e384744",
   "metadata": {},
   "source": [
    "1.Create a function in python to read the text file and replace specific content\n",
    "of the file."
   ]
  },
  {
   "cell_type": "code",
   "execution_count": 2,
   "id": "be3838c8",
   "metadata": {},
   "outputs": [],
   "source": [
    "read_file = open(\"example.txt\", \"r\")\n",
    "\n",
    "new_file_content = \"\"\n",
    "for line in read_file:\n",
    "    stripped_line = line.strip()\n",
    "    new_line = stripped_line.replace(\"placement\", \"screening\")\n",
    "    new_file_content += new_line +\"\\n\"\n",
    "read_file.close()\n",
    "\n",
    "write_file = open(\"example.txt\", \"w\")\n",
    "write_file.write(new_file_content)\n",
    "write_file.close()"
   ]
  },
  {
   "cell_type": "code",
   "execution_count": null,
   "id": "d3417817",
   "metadata": {},
   "outputs": [],
   "source": []
  }
 ],
 "metadata": {
  "kernelspec": {
   "display_name": "Python 3",
   "language": "python",
   "name": "python3"
  },
  "language_info": {
   "codemirror_mode": {
    "name": "ipython",
    "version": 3
   },
   "file_extension": ".py",
   "mimetype": "text/x-python",
   "name": "python",
   "nbconvert_exporter": "python",
   "pygments_lexer": "ipython3",
   "version": "3.8.5"
  }
 },
 "nbformat": 4,
 "nbformat_minor": 5
}
