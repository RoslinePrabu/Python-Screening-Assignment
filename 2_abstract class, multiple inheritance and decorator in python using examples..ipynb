{
 "cells": [
  {
   "cell_type": "code",
   "execution_count": null,
   "id": "e880b8b2",
   "metadata": {},
   "outputs": [],
   "source": [
    "2. Demonstrate use of abstract class, multiple inheritance and decorator in\n",
    "python using examples."
   ]
  },
  {
   "cell_type": "markdown",
   "id": "b26177fd",
   "metadata": {},
   "source": [
    "Abstract method is a method which only has declaration and doesn't have definition.\n",
    "A class is called abstract class only if it has at least one abstract method.\n",
    "when you inherit a abstract class as a parent to the child class, the child class should define all the abstract method present in parent class.\n",
    "if it is not done then child class also becomes abstract class automatically.\n",
    "At last, python by default doesn't support abstract class and abstract method, so there is a package called ABC(abstract base classes) by which we can make a class or method abstract."
   ]
  },
  {
   "cell_type": "code",
   "execution_count": 7,
   "id": "eecbf9f6",
   "metadata": {},
   "outputs": [
    {
     "name": "stdout",
     "output_type": "stream",
     "text": [
      " Enter the side : 7\n",
      "49.0\n",
      "28.0\n"
     ]
    }
   ],
   "source": [
    "from abc import ABC, abstractmethod\n",
    "class Shape(ABC):\n",
    "    @abstractmethod\n",
    "    def area(self): pass\n",
    "\n",
    "    @abstractmethod\n",
    "    def perimeter(self): pass\n",
    "\n",
    "class Square(Shape):\n",
    "    def __init__(self, side):\n",
    "        self.__side = side\n",
    "    def area(self):\n",
    "        return self.__side * self.__side\n",
    "    def perimeter(self):\n",
    "        return 4 * self.__side\n",
    "\n",
    "\n",
    "square = Square(float(input(\" Enter the side : \")))\n",
    "print(square.area())\n",
    "print(square.perimeter())"
   ]
  },
  {
   "cell_type": "code",
   "execution_count": null,
   "id": "be0c24ee",
   "metadata": {},
   "outputs": [],
   "source": [
    "Multiple Inheritance in Python"
   ]
  },
  {
   "cell_type": "markdown",
   "id": "77d872fe",
   "metadata": {},
   "source": [
    "Multiple Inheritance :\n",
    "When a class is derived from more than one base class it is called multiple Inheritance. The derived class inherits all the features of the base case.\n",
    " "
   ]
  },
  {
   "cell_type": "code",
   "execution_count": 8,
   "id": "e857fec0",
   "metadata": {},
   "outputs": [
    {
     "name": "stdout",
     "output_type": "stream",
     "text": [
      "Music,programming\n",
      "cooking,teaching\n",
      "Sports,Music\n"
     ]
    }
   ],
   "source": [
    "class Father():\n",
    "   def skills(self):\n",
    "       print(\"Music,programming\")\n",
    "\n",
    "class Mother():\n",
    "   def skills(self):\n",
    "       print(\"cooking,teaching\")\n",
    "\n",
    "class Child(Father,Mother):\n",
    "    def skills(self):\n",
    "        Father.skills(self)\n",
    "        Mother.skills(self)\n",
    "        print(\"Sports,Music\")\n",
    "\n",
    "c = Child()\n",
    "c.skills()"
   ]
  },
  {
   "cell_type": "code",
   "execution_count": null,
   "id": "bfcd1e1c",
   "metadata": {},
   "outputs": [],
   "source": []
  }
 ],
 "metadata": {
  "kernelspec": {
   "display_name": "Python 3",
   "language": "python",
   "name": "python3"
  },
  "language_info": {
   "codemirror_mode": {
    "name": "ipython",
    "version": 3
   },
   "file_extension": ".py",
   "mimetype": "text/x-python",
   "name": "python",
   "nbconvert_exporter": "python",
   "pygments_lexer": "ipython3",
   "version": "3.8.5"
  }
 },
 "nbformat": 4,
 "nbformat_minor": 5
}
